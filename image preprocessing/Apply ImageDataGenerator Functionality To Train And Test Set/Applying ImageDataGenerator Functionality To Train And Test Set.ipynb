{
  "nbformat": 4,
  "nbformat_minor": 0,
  "metadata": {
    "colab": {
      "provenance": []
    },
    "kernelspec": {
      "name": "python3",
      "display_name": "Python 3"
    },
    "language_info": {
      "name": "python"
    }
  },
  "cells": [
    {
      "cell_type": "markdown",
      "source": [
        "# Image Preprocessing\n",
        "# Applying ImageDataGenerator Functionality To Train And Test **Set**"
      ],
      "metadata": {
        "id": "R_1MVNQEzyar"
      }
    },
    {
      "cell_type": "code",
      "source": [
        "from tensorflow.keras.preprocessing.image import ImageDataGenerator"
      ],
      "metadata": {
        "id": "lsX0Qg08z6yt"
      },
      "execution_count": null,
      "outputs": []
    },
    {
      "cell_type": "code",
      "source": [
        "# Testing Datagen\n",
        "test_datagen = ImageDataGenerator(rescale=1/255)\n",
        "# Training Datagen\n",
        "train_datagen = ImageDataGenerator(rescale=1/255,zoom_range=0.2,horizontal_flip=True,vertical_flip=False)"
      ],
      "metadata": {
        "id": "wIA4PjhZz99m"
      },
      "execution_count": null,
      "outputs": []
    },
    {
      "cell_type": "code",
      "source": [
        "# Training Dataset\n",
        "x_train=train_datagen.flow_from_directory(r'/content/drive/MyDrive/Dataset/training_set',target_size=(64,64), class_mode='categorical',batch_size=900)\n",
        "# Testing Dataset\n",
        "x_test=test_datagen.flow_from_directory(r'/content/drive/MyDrive/Dataset/test_set',target_size=(64,64), class_mode='categorical',batch_size=900)"
      ],
      "metadata": {
        "id": "atMS4CQ30I9N"
      },
      "execution_count": null,
      "outputs": []
    },
    {
      "cell_type": "code",
      "source": [
        "print(\"Len x-train : \",len(x_train))\n",
        "print(\"Len x-test : \", len(x_test))"
      ],
      "metadata": {
        "id": "WnKnY3XN0QyY"
      },
      "execution_count": null,
      "outputs": []
    },
    {
      "cell_type": "code",
      "source": [
        "# The Class Indices in Training Dataset\n",
        "x_train.class_indices"
      ],
      "metadata": {
        "id": "b3LcjMl90VHt"
      },
      "execution_count": null,
      "outputs": []
    },
    {
      "cell_type": "code",
      "source": [
        "traindf=pd.read_csv('/content/drive/images_and_labels.txt',dtype=str,sep='\\s')\n",
        "traindf.columns = ['image','label','none1','none2','none3']\n",
        "traindf.drop(['none1', 'none2','none3'], axis=1)"
      ],
      "metadata": {
        "id": "Cvm-RRPM0Y00"
      },
      "execution_count": null,
      "outputs": []
    },
    {
      "cell_type": "code",
      "source": [
        "datagen=ImageDataGenerator(rescale=1./255.,validation_split=0.25)"
      ],
      "metadata": {
        "id": "bjfn8jb90cxW"
      },
      "execution_count": null,
      "outputs": []
    },
    {
      "cell_type": "code",
      "source": [
        "train_generator=datagen.flow_from_dataframe\n",
        "(\n",
        "  dataframe=traindf,\n",
        "  directory=\"/content/drive/\",\n",
        "  x_col=\"image\",\n",
        "  y_col=\"label\",\n",
        "  subset=\"training\",\n",
        "  batch_size=32,\n",
        "  seed=42,\n",
        "  shuffle=True,\n",
        "  class_mode=\"categorical\",\n",
        "  target_size=(150,150)\n",
        ")"
      ],
      "metadata": {
        "id": "oBg9WkcY0h88"
      },
      "execution_count": null,
      "outputs": []
    },
    {
      "cell_type": "markdown",
      "source": [],
      "metadata": {
        "id": "kWxWBPn7zs6_"
      }
    },
    {
      "cell_type": "code",
      "source": [
        "validation_generator=datagen.flow_from_dataframe\n",
        "(\n",
        "  dataframe=traindf,\n",
        "  directory=\"/content/drive/\",\n",
        "  x_col=\"image\",\n",
        "  y_col=\"label\",\n",
        "  subset=\"validation\",\n",
        "  batch_size=32,\n",
        "  seed=42,\n",
        "  shuffle=True,\n",
        "  class_mode=\"categorical\",\n",
        "  target_size=(150,150)\n",
        ")"
      ],
      "metadata": {
        "id": "YsJHrIB60l-L"
      },
      "execution_count": null,
      "outputs": []
    }
  ]
}